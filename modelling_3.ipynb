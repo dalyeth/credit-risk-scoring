{
  "cells": [
    {
      "cell_type": "code",
      "execution_count": null,
      "id": "dd958b3e",
      "metadata": {
        "_cell_guid": "b1076dfc-b9ad-4769-8c92-a6c4dae69d19",
        "_uuid": "8f2839f25d086af736a60e9eeb907d3b93b6e0e5",
        "execution": {
          "iopub.execute_input": "2023-11-09T14:18:10.383441Z",
          "iopub.status.busy": "2023-11-09T14:18:10.382381Z",
          "iopub.status.idle": "2023-11-09T14:18:10.811146Z",
          "shell.execute_reply": "2023-11-09T14:18:10.809999Z"
        },
        "papermill": {
          "duration": 0.444373,
          "end_time": "2023-11-09T14:18:10.813878",
          "exception": false,
          "start_time": "2023-11-09T14:18:10.369505",
          "status": "completed"
        },
        "tags": [],
        "id": "dd958b3e"
      },
      "outputs": [],
      "source": [
        "# This Python 3 environment comes with many helpful analytics libraries installed\n",
        "# It is defined by the kaggle/python Docker image: https://github.com/kaggle/docker-python\n",
        "# For example, here's several helpful packages to load\n",
        "\n",
        "import numpy as np # linear algebra\n",
        "import pandas as pd # data processing, CSV file I/O (e.g. pd.read_csv)\n",
        "\n",
        "# Input data files are available in the read-only \"../input/\" directory\n",
        "# For example, running this (by clicking run or pressing Shift+Enter) will list all files under the input directory\n",
        "\n",
        "import os\n",
        "for dirname, _, filenames in os.walk('/kaggle/input'):\n",
        "    for filename in filenames:\n",
        "        print(os.path.join(dirname, filename))\n",
        "\n",
        "# You can write up to 20GB to the current directory (/kaggle/working/) that gets preserved as output when you create a version using \"Save & Run All\"\n",
        "# You can also write temporary files to /kaggle/temp/, but they won't be saved outside of the current session"
      ]
    },
    {
      "cell_type": "code",
      "execution_count": null,
      "id": "40065cbe",
      "metadata": {
        "execution": {
          "iopub.execute_input": "2023-11-09T14:18:10.837892Z",
          "iopub.status.busy": "2023-11-09T14:18:10.836647Z",
          "iopub.status.idle": "2023-11-09T14:18:16.221305Z",
          "shell.execute_reply": "2023-11-09T14:18:16.220069Z"
        },
        "papermill": {
          "duration": 5.399435,
          "end_time": "2023-11-09T14:18:16.224193",
          "exception": false,
          "start_time": "2023-11-09T14:18:10.824758",
          "status": "completed"
        },
        "tags": [],
        "id": "40065cbe"
      },
      "outputs": [],
      "source": [
        "import zipfile\n",
        "import os\n",
        "import csv\n",
        "import gc\n",
        "import pandas as pd\n",
        "from sklearn.preprocessing import OneHotEncoder\n",
        "import matplotlib.pyplot as plt\n",
        "\n",
        "\n",
        "from sklearn.preprocessing import OneHotEncoder\n",
        "from sklearn.preprocessing import StandardScaler\n",
        "from sklearn.ensemble import RandomForestClassifier\n",
        "from sklearn.linear_model import LogisticRegression,  LogisticRegressionCV\n",
        "from sklearn.metrics import accuracy_score, confusion_matrix\n",
        "from sklearn.model_selection import train_test_split, cross_validate, cross_val_score\n",
        "from sklearn.neural_network import MLPClassifier\n",
        "from sklearn.model_selection import RandomizedSearchCV, GridSearchCV\n",
        "\n",
        "from sklearn.metrics import roc_auc_score,roc_curve, RocCurveDisplay, auc, make_scorer, ConfusionMatrixDisplay, confusion_matrix, classification_report\n",
        "import zipfile\n",
        "import pandas as pd\n",
        "from xgboost import XGBClassifier\n",
        "from sklearn.ensemble import IsolationForest\n",
        "from sklearn.svm import OneClassSVM\n",
        "from sklearn.ensemble import GradientBoostingClassifier,  HistGradientBoostingClassifier\n",
        "from imblearn.under_sampling import RandomUnderSampler\n",
        "from sklearn.inspection import permutation_importance\n",
        "import torch\n",
        "\n",
        "import torch.utils.data as data_utils\n",
        "from torch.utils.data import Dataset, DataLoader\n",
        "from sklearn.utils import class_weight\n",
        "from vecstack import stacking\n",
        "import torch.nn as nn\n",
        "import torch.nn.functional as F\n",
        "import joblib\n"
      ]
    },
    {
      "cell_type": "code",
      "execution_count": null,
      "id": "ebc4fc93",
      "metadata": {
        "execution": {
          "iopub.execute_input": "2023-11-09T14:18:16.248236Z",
          "iopub.status.busy": "2023-11-09T14:18:16.247677Z",
          "iopub.status.idle": "2023-11-09T14:18:20.962170Z",
          "shell.execute_reply": "2023-11-09T14:18:20.960996Z"
        },
        "papermill": {
          "duration": 4.729579,
          "end_time": "2023-11-09T14:18:20.964810",
          "exception": false,
          "start_time": "2023-11-09T14:18:16.235231",
          "status": "completed"
        },
        "tags": [],
        "id": "ebc4fc93"
      },
      "outputs": [],
      "source": [
        "x_train = pd.read_parquet('/kaggle/input/feature-engineering/x_train.parquet')\n",
        "x_test = pd.read_parquet('/kaggle/input/feature-engineering/x_test.parquet')\n",
        "y_train = pd.read_csv('/kaggle/input/feature-engineering/y_train.csv')\n",
        "y_test = pd.read_csv('/kaggle/input/feature-engineering/y_test.csv')"
      ]
    },
    {
      "cell_type": "code",
      "execution_count": null,
      "id": "31c550e4",
      "metadata": {
        "execution": {
          "iopub.execute_input": "2023-11-09T14:18:20.988378Z",
          "iopub.status.busy": "2023-11-09T14:18:20.987954Z",
          "iopub.status.idle": "2023-11-09T14:18:20.996182Z",
          "shell.execute_reply": "2023-11-09T14:18:20.995162Z"
        },
        "papermill": {
          "duration": 0.023051,
          "end_time": "2023-11-09T14:18:20.999062",
          "exception": false,
          "start_time": "2023-11-09T14:18:20.976011",
          "status": "completed"
        },
        "tags": [],
        "id": "31c550e4",
        "outputId": "050c2076-4b1c-4954-a895-6e94398d9c2c"
      },
      "outputs": [
        {
          "data": {
            "text/plain": [
              "((2400000, 160), (600000, 160), (2400000, 1), (600000, 1))"
            ]
          },
          "execution_count": 4,
          "metadata": {},
          "output_type": "execute_result"
        }
      ],
      "source": [
        "x_train.shape, x_test.shape, y_train.shape, y_test.shape"
      ]
    },
    {
      "cell_type": "code",
      "execution_count": null,
      "id": "5f93d77d",
      "metadata": {
        "execution": {
          "iopub.execute_input": "2023-11-09T14:18:21.023432Z",
          "iopub.status.busy": "2023-11-09T14:18:21.023067Z",
          "iopub.status.idle": "2023-11-09T14:18:27.360293Z",
          "shell.execute_reply": "2023-11-09T14:18:27.359327Z"
        },
        "papermill": {
          "duration": 6.352683,
          "end_time": "2023-11-09T14:18:27.363072",
          "exception": false,
          "start_time": "2023-11-09T14:18:21.010389",
          "status": "completed"
        },
        "tags": [],
        "id": "5f93d77d"
      },
      "outputs": [],
      "source": [
        "scaler =  StandardScaler()\n",
        "x_train = scaler.fit_transform(x_train)\n",
        "x_test  = scaler.transform(x_test)"
      ]
    },
    {
      "cell_type": "code",
      "execution_count": null,
      "id": "3070fbde",
      "metadata": {
        "execution": {
          "iopub.execute_input": "2023-11-09T14:18:27.386878Z",
          "iopub.status.busy": "2023-11-09T14:18:27.386466Z",
          "iopub.status.idle": "2023-11-09T14:18:27.391632Z",
          "shell.execute_reply": "2023-11-09T14:18:27.390442Z"
        },
        "papermill": {
          "duration": 0.019704,
          "end_time": "2023-11-09T14:18:27.394042",
          "exception": false,
          "start_time": "2023-11-09T14:18:27.374338",
          "status": "completed"
        },
        "tags": [],
        "id": "3070fbde"
      },
      "outputs": [],
      "source": [
        "y_train = y_train.values.ravel()"
      ]
    },
    {
      "cell_type": "code",
      "execution_count": null,
      "id": "fe1f59ee",
      "metadata": {
        "execution": {
          "iopub.execute_input": "2023-11-09T14:18:27.417640Z",
          "iopub.status.busy": "2023-11-09T14:18:27.417283Z",
          "iopub.status.idle": "2023-11-09T14:18:27.422160Z",
          "shell.execute_reply": "2023-11-09T14:18:27.420939Z"
        },
        "papermill": {
          "duration": 0.019111,
          "end_time": "2023-11-09T14:18:27.424375",
          "exception": false,
          "start_time": "2023-11-09T14:18:27.405264",
          "status": "completed"
        },
        "tags": [],
        "id": "fe1f59ee"
      },
      "outputs": [],
      "source": [
        "roc_auc=make_scorer(roc_auc_score)"
      ]
    },
    {
      "cell_type": "code",
      "execution_count": null,
      "id": "b9c68b3f",
      "metadata": {
        "execution": {
          "iopub.execute_input": "2023-11-09T14:18:27.447235Z",
          "iopub.status.busy": "2023-11-09T14:18:27.446689Z",
          "iopub.status.idle": "2023-11-09T14:18:27.451361Z",
          "shell.execute_reply": "2023-11-09T14:18:27.450266Z"
        },
        "papermill": {
          "duration": 0.01851,
          "end_time": "2023-11-09T14:18:27.453592",
          "exception": false,
          "start_time": "2023-11-09T14:18:27.435082",
          "status": "completed"
        },
        "tags": [],
        "id": "b9c68b3f"
      },
      "outputs": [],
      "source": [
        "#некоторые эксперименты с подбором параметров градиентного бустинга уже были проведены для этого датасета, уточним их\n",
        "#params = {'max_depth':[11, 13, 15], 'max_leaf_nodes':[70, 72, 74], 'min_samples_leaf':[ 28, 30, 32]}\n",
        "#grid = GridSearchCV(estimator=HistGradientBoostingClassifier(class_weight='balanced', max_iter=150, scoring='roc_auc', tol=0.00001, l2_regularization=0.01, learning_rate=0.1), param_grid=params, cv=3, scoring=roc_auc"
      ]
    },
    {
      "cell_type": "code",
      "execution_count": null,
      "id": "05e5e03d",
      "metadata": {
        "execution": {
          "iopub.execute_input": "2023-11-09T14:18:27.476591Z",
          "iopub.status.busy": "2023-11-09T14:18:27.476239Z",
          "iopub.status.idle": "2023-11-09T14:18:27.480540Z",
          "shell.execute_reply": "2023-11-09T14:18:27.479588Z"
        },
        "papermill": {
          "duration": 0.018702,
          "end_time": "2023-11-09T14:18:27.482854",
          "exception": false,
          "start_time": "2023-11-09T14:18:27.464152",
          "status": "completed"
        },
        "tags": [],
        "id": "05e5e03d"
      },
      "outputs": [],
      "source": [
        "#grid.best_params_"
      ]
    },
    {
      "cell_type": "code",
      "execution_count": null,
      "id": "55fde4bf",
      "metadata": {
        "execution": {
          "iopub.execute_input": "2023-11-09T14:18:27.506662Z",
          "iopub.status.busy": "2023-11-09T14:18:27.506129Z",
          "iopub.status.idle": "2023-11-09T14:18:27.513389Z",
          "shell.execute_reply": "2023-11-09T14:18:27.512324Z"
        },
        "papermill": {
          "duration": 0.021406,
          "end_time": "2023-11-09T14:18:27.515358",
          "exception": false,
          "start_time": "2023-11-09T14:18:27.493952",
          "status": "completed"
        },
        "tags": [],
        "id": "55fde4bf"
      },
      "outputs": [],
      "source": [
        "def eval_classifier(model, x, y):\n",
        "    probs = model.predict_proba(x)\n",
        "    probs = probs[:, 1]\n",
        "    clf_auc = roc_auc_score(y, probs)\n",
        "    print('ROC AUC=%.3f' % (clf_auc))\n",
        "\n",
        "    print(classification_report(y, model.predict(x) ))\n",
        "\n",
        "    cm = confusion_matrix(y, model.predict(x), labels=model.classes_)\n",
        "    disp = ConfusionMatrixDisplay(confusion_matrix=cm, display_labels=model.classes_)\n",
        "    disp.plot()\n",
        "    plt.show()"
      ]
    },
    {
      "cell_type": "code",
      "execution_count": null,
      "id": "1146b753",
      "metadata": {
        "execution": {
          "iopub.execute_input": "2023-11-09T14:18:27.538816Z",
          "iopub.status.busy": "2023-11-09T14:18:27.538453Z",
          "iopub.status.idle": "2023-11-09T14:23:51.174993Z",
          "shell.execute_reply": "2023-11-09T14:23:51.173588Z"
        },
        "papermill": {
          "duration": 323.650962,
          "end_time": "2023-11-09T14:23:51.177528",
          "exception": false,
          "start_time": "2023-11-09T14:18:27.526566",
          "status": "completed"
        },
        "tags": [],
        "id": "1146b753"
      },
      "outputs": [],
      "source": [
        "grad_fast = HistGradientBoostingClassifier(class_weight='balanced', max_depth=15, max_leaf_nodes=72, min_samples_leaf=28, max_iter=150, scoring='roc_auc', tol=0.00001, l2_regularization=0.01, learning_rate=0.1, verbose=5)\n",
        "grad_fast.fit(x_train, y_train)\n",
        "\n"
      ]
    },
    {
      "cell_type": "code",
      "execution_count": null,
      "id": "a3d20093",
      "metadata": {
        "execution": {
          "iopub.execute_input": "2023-11-09T14:23:51.231945Z",
          "iopub.status.busy": "2023-11-09T14:23:51.231515Z",
          "iopub.status.idle": "2023-11-09T14:24:22.709132Z",
          "shell.execute_reply": "2023-11-09T14:24:22.707931Z"
        },
        "papermill": {
          "duration": 31.533882,
          "end_time": "2023-11-09T14:24:22.737661",
          "exception": false,
          "start_time": "2023-11-09T14:23:51.203779",
          "status": "completed"
        },
        "tags": [],
        "id": "a3d20093",
        "outputId": "de92a993-2395-463c-bc4e-cbfe41e57d96"
      },
      "outputs": [
        {
          "name": "stdout",
          "output_type": "stream",
          "text": [
            "ROC AUC=0.756\n",
            "              precision    recall  f1-score   support\n",
            "\n",
            "           0       0.98      0.68      0.80    578712\n",
            "           1       0.07      0.70      0.13     21288\n",
            "\n",
            "    accuracy                           0.68    600000\n",
            "   macro avg       0.53      0.69      0.47    600000\n",
            "weighted avg       0.95      0.68      0.78    600000\n",
            "\n"
          ]
        },
        {
          "data": {
            "image/png": "[encoded data removed]",
            "text/plain": [
              "<Figure size 640x480 with 2 Axes>"
            ]
          },
          "metadata": {},
          "output_type": "display_data"
        }
      ],
      "source": [
        "eval_classifier(grad_fast, x_test, y_test)"
      ]
    },
    {
      "cell_type": "code",
      "execution_count": null,
      "id": "bbca7822",
      "metadata": {
        "execution": {
          "iopub.execute_input": "2023-11-09T14:24:23.009717Z",
          "iopub.status.busy": "2023-11-09T14:24:23.008842Z",
          "iopub.status.idle": "2023-11-09T14:43:11.127798Z",
          "shell.execute_reply": "2023-11-09T14:43:11.126182Z"
        },
        "papermill": {
          "duration": 1128.195675,
          "end_time": "2023-11-09T14:43:11.176289",
          "exception": false,
          "start_time": "2023-11-09T14:24:22.980614",
          "status": "completed"
        },
        "tags": [],
        "id": "bbca7822",
        "outputId": "82bc5a7f-ac87-4877-af82-be6fb63f5e36"
      },
      "outputs": [
        {
          "data": {
            "text/html": [
              "<style>#sk-container-id-2 {color: black;background-color: white;}#sk-container-id-2 pre{padding: 0;}#sk-container-id-2 div.sk-toggleable {background-color: white;}#sk-container-id-2 label.sk-toggleable__label {cursor: pointer;display: block;width: 100%;margin-bottom: 0;padding: 0.3em;box-sizing: border-box;text-align: center;}#sk-container-id-2 label.sk-toggleable__label-arrow:before {content: \"▸\";float: left;margin-right: 0.25em;color: #696969;}#sk-container-id-2 label.sk-toggleable__label-arrow:hover:before {color: black;}#sk-container-id-2 div.sk-estimator:hover label.sk-toggleable__label-arrow:before {color: black;}#sk-container-id-2 div.sk-toggleable__content {max-height: 0;max-width: 0;overflow: hidden;text-align: left;background-color: #f0f8ff;}#sk-container-id-2 div.sk-toggleable__content pre {margin: 0.2em;color: black;border-radius: 0.25em;background-color: #f0f8ff;}#sk-container-id-2 input.sk-toggleable__control:checked~div.sk-toggleable__content {max-height: 200px;max-width: 100%;overflow: auto;}#sk-container-id-2 input.sk-toggleable__control:checked~label.sk-toggleable__label-arrow:before {content: \"▾\";}#sk-container-id-2 div.sk-estimator input.sk-toggleable__control:checked~label.sk-toggleable__label {background-color: #d4ebff;}#sk-container-id-2 div.sk-label input.sk-toggleable__control:checked~label.sk-toggleable__label {background-color: #d4ebff;}#sk-container-id-2 input.sk-hidden--visually {border: 0;clip: rect(1px 1px 1px 1px);clip: rect(1px, 1px, 1px, 1px);height: 1px;margin: -1px;overflow: hidden;padding: 0;position: absolute;width: 1px;}#sk-container-id-2 div.sk-estimator {font-family: monospace;background-color: #f0f8ff;border: 1px dotted black;border-radius: 0.25em;box-sizing: border-box;margin-bottom: 0.5em;}#sk-container-id-2 div.sk-estimator:hover {background-color: #d4ebff;}#sk-container-id-2 div.sk-parallel-item::after {content: \"\";width: 100%;border-bottom: 1px solid gray;flex-grow: 1;}#sk-container-id-2 div.sk-label:hover label.sk-toggleable__label {background-color: #d4ebff;}#sk-container-id-2 div.sk-serial::before {content: \"\";position: absolute;border-left: 1px solid gray;box-sizing: border-box;top: 0;bottom: 0;left: 50%;z-index: 0;}#sk-container-id-2 div.sk-serial {display: flex;flex-direction: column;align-items: center;background-color: white;padding-right: 0.2em;padding-left: 0.2em;position: relative;}#sk-container-id-2 div.sk-item {position: relative;z-index: 1;}#sk-container-id-2 div.sk-parallel {display: flex;align-items: stretch;justify-content: center;background-color: white;position: relative;}#sk-container-id-2 div.sk-item::before, #sk-container-id-2 div.sk-parallel-item::before {content: \"\";position: absolute;border-left: 1px solid gray;box-sizing: border-box;top: 0;bottom: 0;left: 50%;z-index: -1;}#sk-container-id-2 div.sk-parallel-item {display: flex;flex-direction: column;z-index: 1;position: relative;background-color: white;}#sk-container-id-2 div.sk-parallel-item:first-child::after {align-self: flex-end;width: 50%;}#sk-container-id-2 div.sk-parallel-item:last-child::after {align-self: flex-start;width: 50%;}#sk-container-id-2 div.sk-parallel-item:only-child::after {width: 0;}#sk-container-id-2 div.sk-dashed-wrapped {border: 1px dashed gray;margin: 0 0.4em 0.5em 0.4em;box-sizing: border-box;padding-bottom: 0.4em;background-color: white;}#sk-container-id-2 div.sk-label label {font-family: monospace;font-weight: bold;display: inline-block;line-height: 1.2em;}#sk-container-id-2 div.sk-label-container {text-align: center;}#sk-container-id-2 div.sk-container {/* jupyter's `normalize.less` sets `[hidden] { display: none; }` but bootstrap.min.css set `[hidden] { display: none !important; }` so we also need the `!important` here to be able to override the default hidden behavior on the sphinx rendered scikit-learn.org. See: https://github.com/scikit-learn/scikit-learn/issues/21755 */display: inline-block !important;position: relative;}#sk-container-id-2 div.sk-text-repr-fallback {display: none;}</style><div id=\"sk-container-id-2\" class=\"sk-top-container\"><div class=\"sk-text-repr-fallback\"><pre>LogisticRegressionCV(class_weight=&#x27;balanced&#x27;, cv=3, max_iter=1000,\n",
              "                     scoring=&#x27;roc_auc&#x27;)</pre><b>In a Jupyter environment, please rerun this cell to show the HTML representation or trust the notebook. <br />On GitHub, the HTML representation is unable to render, please try loading this page with nbviewer.org.</b></div><div class=\"sk-container\" hidden><div class=\"sk-item\"><div class=\"sk-estimator sk-toggleable\"><input class=\"sk-toggleable__control sk-hidden--visually\" id=\"sk-estimator-id-2\" type=\"checkbox\" checked><label for=\"sk-estimator-id-2\" class=\"sk-toggleable__label sk-toggleable__label-arrow\">LogisticRegressionCV</label><div class=\"sk-toggleable__content\"><pre>LogisticRegressionCV(class_weight=&#x27;balanced&#x27;, cv=3, max_iter=1000,\n",
              "                     scoring=&#x27;roc_auc&#x27;)</pre></div></div></div></div></div>"
            ],
            "text/plain": [
              "LogisticRegressionCV(class_weight='balanced', cv=3, max_iter=1000,\n",
              "                     scoring='roc_auc')"
            ]
          },
          "execution_count": 14,
          "metadata": {},
          "output_type": "execute_result"
        }
      ],
      "source": [
        "logreg = LogisticRegressionCV(class_weight='balanced', refit=True, cv=3, scoring='roc_auc', max_iter=1000)\n",
        "logreg.fit(x_train, y_train)"
      ]
    },
    {
      "cell_type": "code",
      "execution_count": null,
      "id": "382f131b",
      "metadata": {
        "execution": {
          "iopub.execute_input": "2023-11-09T14:43:11.253193Z",
          "iopub.status.busy": "2023-11-09T14:43:11.252778Z",
          "iopub.status.idle": "2023-11-09T14:43:14.203482Z",
          "shell.execute_reply": "2023-11-09T14:43:14.202343Z"
        },
        "papermill": {
          "duration": 2.981152,
          "end_time": "2023-11-09T14:43:14.205827",
          "exception": false,
          "start_time": "2023-11-09T14:43:11.224675",
          "status": "completed"
        },
        "tags": [],
        "id": "382f131b",
        "outputId": "ed7644f4-4f45-481d-95b6-353d7bb0d1c4"
      },
      "outputs": [
        {
          "name": "stdout",
          "output_type": "stream",
          "text": [
            "ROC AUC=0.744\n",
            "              precision    recall  f1-score   support\n",
            "\n",
            "           0       0.98      0.69      0.81    578712\n",
            "           1       0.07      0.68      0.13     21288\n",
            "\n",
            "    accuracy                           0.69    600000\n",
            "   macro avg       0.53      0.68      0.47    600000\n",
            "weighted avg       0.95      0.69      0.78    600000\n",
            "\n"
          ]
        },
        {
          "data": {
            "image/png": "[encoded data removed]",
            "text/plain": [
              "<Figure size 640x480 with 2 Axes>"
            ]
          },
          "metadata": {},
          "output_type": "display_data"
        }
      ],
      "source": [
        "eval_classifier(logreg, x_test, y_test)"
      ]
    },
    {
      "cell_type": "code",
      "execution_count": null,
      "id": "8841d2ed",
      "metadata": {
        "execution": {
          "iopub.execute_input": "2023-11-09T14:43:14.262326Z",
          "iopub.status.busy": "2023-11-09T14:43:14.261956Z",
          "iopub.status.idle": "2023-11-09T14:43:14.844017Z",
          "shell.execute_reply": "2023-11-09T14:43:14.842841Z"
        },
        "papermill": {
          "duration": 0.613475,
          "end_time": "2023-11-09T14:43:14.846742",
          "exception": false,
          "start_time": "2023-11-09T14:43:14.233267",
          "status": "completed"
        },
        "tags": [],
        "id": "8841d2ed"
      },
      "outputs": [],
      "source": [
        "class MyDataset(Dataset):\n",
        "    def __init__(self, X, y):\n",
        "        self.X = torch.from_numpy(X.astype(np.float32))\n",
        "        self.y = torch.from_numpy(y.astype(np.float32))\n",
        "\n",
        "    def __getitem__(self, index):\n",
        "        return self.X[index], self.y[index]\n",
        "\n",
        "    def __len__(self):\n",
        "        return self.X.shape[0]\n",
        "\n",
        "train_data = MyDataset(x_train, y_train)\n",
        "\n",
        "batch_size = 64\n",
        "\n",
        "train_dataloader = DataLoader(\n",
        "    train_data,\n",
        "    batch_size=batch_size,\n",
        "    shuffle=True\n",
        ")\n",
        "\n"
      ]
    },
    {
      "cell_type": "code",
      "execution_count": null,
      "id": "f0f484ad",
      "metadata": {
        "execution": {
          "iopub.execute_input": "2023-11-09T14:43:14.903305Z",
          "iopub.status.busy": "2023-11-09T14:43:14.902216Z",
          "iopub.status.idle": "2023-11-09T14:52:32.743775Z",
          "shell.execute_reply": "2023-11-09T14:52:32.742802Z"
        },
        "papermill": {
          "duration": 557.872372,
          "end_time": "2023-11-09T14:52:32.746368",
          "exception": false,
          "start_time": "2023-11-09T14:43:14.873996",
          "status": "completed"
        },
        "tags": [],
        "id": "f0f484ad"
      },
      "outputs": [],
      "source": [
        "\n",
        "n_features = x_train.shape[1]\n",
        "hidden_layer_size = round((n_features/3)*2)\n",
        "\n",
        "class BaseClassifier(nn.Module):\n",
        "    def __init__(self, input_dim=n_features, hidden_dim=hidden_layer_size, output_dim=1):\n",
        "        super().__init__()\n",
        "\n",
        "        self.hidden1 = nn.Linear(input_dim, hidden_dim)\n",
        "        self.f1 = nn.Sigmoid()\n",
        "\n",
        "        self.hidden2 = nn.Linear(hidden_dim, 10)\n",
        "        self.f2 = nn.Sigmoid()\n",
        "\n",
        "        self.output = nn.Linear(10, output_dim)\n",
        "        self.f3 = nn.Sigmoid()\n",
        "\n",
        "    def forward(self, x):\n",
        "        x = self.f1(self.hidden1(x))\n",
        "        x = self.f2(self.hidden2(x))\n",
        "        x  = self.f3(self.output(x))\n",
        "\n",
        "        return x\n",
        "\n",
        "basenet = BaseClassifier()\n",
        "\n",
        "\n",
        "optimizer = torch.optim.SGD(basenet.parameters(), lr=0.01)\n",
        "\n",
        "num_epochs = 10\n",
        "class_weights = class_weight.compute_class_weight(class_weight='balanced',\n",
        "                                                      classes=np.unique(y_train),\n",
        "                                                      y=y_train)\n",
        "\n",
        "for epoch in range(num_epochs):\n",
        "        for X, y in train_dataloader:\n",
        "            pred = basenet(X)\n",
        "\n",
        "            weights = torch.zeros_like(y.unsqueeze(-1))\n",
        "            weights[y==0] = class_weights[0]\n",
        "            weights[y==1] = class_weights[1]\n",
        "            loss = F.binary_cross_entropy(pred, y.unsqueeze(-1), weight=weights)\n",
        "            optimizer.zero_grad()\n",
        "            loss.backward()\n",
        "            optimizer.step()\n"
      ]
    },
    {
      "cell_type": "code",
      "execution_count": null,
      "id": "5def97c1",
      "metadata": {
        "execution": {
          "iopub.execute_input": "2023-11-09T14:52:32.798748Z",
          "iopub.status.busy": "2023-11-09T14:52:32.798348Z",
          "iopub.status.idle": "2023-11-09T14:52:33.656897Z",
          "shell.execute_reply": "2023-11-09T14:52:33.656017Z"
        },
        "papermill": {
          "duration": 0.887215,
          "end_time": "2023-11-09T14:52:33.659412",
          "exception": false,
          "start_time": "2023-11-09T14:52:32.772197",
          "status": "completed"
        },
        "tags": [],
        "id": "5def97c1"
      },
      "outputs": [],
      "source": [
        "x_test_tensor =torch.from_numpy(x_test.astype(np.float32))\n",
        "\n",
        "y_pred_proba = basenet(x_test_tensor).cpu().detach().numpy().ravel()\n",
        "\n",
        "auc = round(roc_auc_score(y_test, y_pred_proba), 4)\n"
      ]
    },
    {
      "cell_type": "code",
      "execution_count": null,
      "id": "f9e081fa",
      "metadata": {
        "execution": {
          "iopub.execute_input": "2023-11-09T14:52:33.710720Z",
          "iopub.status.busy": "2023-11-09T14:52:33.709997Z",
          "iopub.status.idle": "2023-11-09T14:52:34.565609Z",
          "shell.execute_reply": "2023-11-09T14:52:34.564630Z"
        },
        "papermill": {
          "duration": 0.883313,
          "end_time": "2023-11-09T14:52:34.567913",
          "exception": false,
          "start_time": "2023-11-09T14:52:33.684600",
          "status": "completed"
        },
        "tags": [],
        "id": "f9e081fa",
        "outputId": "484e4ffb-01c4-4dfa-b338-1e85bf0ec60a"
      },
      "outputs": [
        {
          "data": {
            "image/png": "[encoded data removed]",
            "text/plain": [
              "<Figure size 640x480 with 2 Axes>"
            ]
          },
          "metadata": {},
          "output_type": "display_data"
        }
      ],
      "source": [
        "y_pred = np.round(basenet(x_test_tensor).cpu().detach().numpy().ravel())\n",
        "cm = confusion_matrix(y_test, y_pred, labels=[0, 1], normalize='all')\n",
        "disp = ConfusionMatrixDisplay(confusion_matrix=cm, display_labels=[0, 1])\n",
        "disp.plot()\n",
        "plt.show()"
      ]
    },
    {
      "cell_type": "code",
      "execution_count": null,
      "id": "1c5b1492",
      "metadata": {
        "execution": {
          "iopub.execute_input": "2023-11-09T14:52:34.623091Z",
          "iopub.status.busy": "2023-11-09T14:52:34.622646Z",
          "iopub.status.idle": "2023-11-09T14:52:35.905825Z",
          "shell.execute_reply": "2023-11-09T14:52:35.904673Z"
        },
        "papermill": {
          "duration": 1.313859,
          "end_time": "2023-11-09T14:52:35.908274",
          "exception": false,
          "start_time": "2023-11-09T14:52:34.594415",
          "status": "completed"
        },
        "tags": [],
        "id": "1c5b1492",
        "outputId": "d6af26a3-291e-476f-f357-ec6d27c3c75e"
      },
      "outputs": [
        {
          "name": "stdout",
          "output_type": "stream",
          "text": [
            "              precision    recall  f1-score   support\n",
            "\n",
            "           0       0.98      0.64      0.78    578712\n",
            "           1       0.07      0.73      0.13     21288\n",
            "\n",
            "    accuracy                           0.65    600000\n",
            "   macro avg       0.53      0.69      0.45    600000\n",
            "weighted avg       0.95      0.65      0.75    600000\n",
            "\n"
          ]
        }
      ],
      "source": [
        "print(classification_report(y_test, y_pred))"
      ]
    },
    {
      "cell_type": "code",
      "execution_count": null,
      "id": "818e0930",
      "metadata": {
        "execution": {
          "iopub.execute_input": "2023-11-09T14:52:35.964974Z",
          "iopub.status.busy": "2023-11-09T14:52:35.964573Z",
          "iopub.status.idle": "2023-11-09T14:52:47.720927Z",
          "shell.execute_reply": "2023-11-09T14:52:47.720134Z"
        },
        "papermill": {
          "duration": 11.787409,
          "end_time": "2023-11-09T14:52:47.723248",
          "exception": false,
          "start_time": "2023-11-09T14:52:35.935839",
          "status": "completed"
        },
        "tags": [],
        "id": "818e0930",
        "outputId": "55183bdd-3de9-419c-9ece-80a30957e102"
      },
      "outputs": [
        {
          "data": {
            "text/plain": [
              "<matplotlib.legend.Legend at 0x794ca1cee290>"
            ]
          },
          "execution_count": 21,
          "metadata": {},
          "output_type": "execute_result"
        },
        {
          "data": {
            "image/png": "[encoded data removed]",
            "text/plain": [
              "<Figure size 640x480 with 1 Axes>"
            ]
          },
          "metadata": {},
          "output_type": "display_data"
        }
      ],
      "source": [
        "plt.figure(0).clf()\n",
        "\n",
        "y_pred = basenet(x_test_tensor).cpu().detach().numpy().ravel()\n",
        "fpr, tpr, _ = roc_curve(y_test, y_pred)\n",
        "auc = round(roc_auc_score(y_test, y_pred), 4)\n",
        "plt.plot (fpr,tpr,label=\"Neural Net, AUC=\"+str(auc))\n",
        "\n",
        "y_pred = logreg.predict_proba (x_test)[:, 1]\n",
        "fpr, tpr, _ = roc_curve(y_test, y_pred)\n",
        "auc = round(roc_auc_score(y_test, y_pred), 4)\n",
        "plt.plot (fpr,tpr,label=\"Logistic Regression, AUC=\"+str(auc))\n",
        "\n",
        "\n",
        "y_pred = grad_fast.predict_proba (x_test)[:, 1]\n",
        "fpr, tpr, _ = roc_curve(y_test, y_pred)\n",
        "auc = round(roc_auc_score(y_test, y_pred), 4)\n",
        "plt.plot (fpr,tpr,label=\"Gradient Boosting, AUC=\"+str(auc))\n",
        "\n",
        "#add legend\n",
        "plt.legend()\n",
        "\n",
        "\n"
      ]
    },
    {
      "cell_type": "code",
      "execution_count": null,
      "id": "77abf63b",
      "metadata": {
        "execution": {
          "iopub.execute_input": "2023-11-09T14:52:47.781940Z",
          "iopub.status.busy": "2023-11-09T14:52:47.780968Z",
          "iopub.status.idle": "2023-11-09T16:40:49.668376Z",
          "shell.execute_reply": "2023-11-09T16:40:49.663770Z"
        },
        "papermill": {
          "duration": 6481.930997,
          "end_time": "2023-11-09T16:40:49.682393",
          "exception": false,
          "start_time": "2023-11-09T14:52:47.751396",
          "status": "completed"
        },
        "tags": [],
        "id": "77abf63b"
      },
      "outputs": [],
      "source": [
        "#Попробуем добавить результаты стекинга в качестве дополнительных признаков\n",
        "\n",
        "scale_pos_weight = round(len(y_train[y_train==0])/len(y_train[y_train==1]))\n",
        "\n",
        "model_1 = logreg\n",
        "model_2 = grad_fast\n",
        "model_3 = XGBClassifier(scale_pos_weight=scale_pos_weight, n_jobs=-1, learning_rate=0.1, max_depth=11)\n",
        "\n",
        "\n",
        "l1models = [model_1, model_2, model_3]\n",
        "\n",
        "\n",
        "s_train, s_test = stacking(l1models, x_train, y_train, x_test,\n",
        "                            regression=False, needs_proba=True, mode='oof_pred_bag', metric=roc_auc_score, n_folds=3, random_state=0,\n",
        "                            stratified=True, shuffle=True)\n",
        "\n",
        "\n",
        "\n"
      ]
    },
    {
      "cell_type": "code",
      "execution_count": null,
      "id": "5fd8c855",
      "metadata": {
        "execution": {
          "iopub.execute_input": "2023-11-09T16:40:49.822726Z",
          "iopub.status.busy": "2023-11-09T16:40:49.822225Z",
          "iopub.status.idle": "2023-11-09T16:47:54.439267Z",
          "shell.execute_reply": "2023-11-09T16:47:54.435615Z"
        },
        "papermill": {
          "duration": 424.687255,
          "end_time": "2023-11-09T16:47:54.443556",
          "exception": false,
          "start_time": "2023-11-09T16:40:49.756301",
          "status": "completed"
        },
        "tags": [],
        "id": "5fd8c855"
      },
      "outputs": [],
      "source": [
        "#вынесем IsolationForest в отдельный уровень, т.к. у него нет predict_proba\n",
        "l2models = [IsolationForest(contamination=0.0354)]\n",
        "s_train2, s_test2 = stacking(l2models,  x_train, y_train, x_test,\n",
        "                            regression=False, needs_proba=False, mode='oof_pred_bag',  n_folds=3, random_state=0,\n",
        "                            stratified=True,shuffle=True )\n",
        ""
      ]
    },
    {
      "cell_type": "code",
      "execution_count": null,
      "id": "5cfd6d5e",
      "metadata": {
        "execution": {
          "iopub.execute_input": "2023-11-09T16:47:55.021309Z",
          "iopub.status.busy": "2023-11-09T16:47:55.020921Z",
          "iopub.status.idle": "2023-11-09T16:47:55.027712Z",
          "shell.execute_reply": "2023-11-09T16:47:55.026924Z"
        },
        "papermill": {
          "duration": 0.068065,
          "end_time": "2023-11-09T16:47:55.030014",
          "exception": false,
          "start_time": "2023-11-09T16:47:54.961949",
          "status": "completed"
        },
        "tags": [],
        "id": "5cfd6d5e",
        "outputId": "28f08302-139c-48e9-fed0-49f5615c0258"
      },
      "outputs": [
        {
          "data": {
            "text/plain": [
              "(2400000, 6)"
            ]
          },
          "execution_count": 25,
          "metadata": {},
          "output_type": "execute_result"
        }
      ],
      "source": [
        "s_train.shape"
      ]
    },
    {
      "cell_type": "code",
      "execution_count": null,
      "id": "362bc5b3",
      "metadata": {
        "execution": {
          "iopub.execute_input": "2023-11-09T16:47:55.144569Z",
          "iopub.status.busy": "2023-11-09T16:47:55.143546Z",
          "iopub.status.idle": "2023-11-09T16:47:55.187989Z",
          "shell.execute_reply": "2023-11-09T16:47:55.187032Z"
        },
        "papermill": {
          "duration": 0.104747,
          "end_time": "2023-11-09T16:47:55.190553",
          "exception": false,
          "start_time": "2023-11-09T16:47:55.085806",
          "status": "completed"
        },
        "tags": [],
        "id": "362bc5b3"
      },
      "outputs": [],
      "source": [
        "s_train = pd.DataFrame(s_train, columns=['mod1_0', 'mod1_1', 'mod2_0', 'mod2_1', 'mod3_0', 'mos=3_1'])\n",
        "s_train = s_train.drop(['mod1_1',  'mod2_1',  'mos=3_1'],axis=1) #признаки _0 и _1 коррелируют, достаточно одного\n",
        "s_test = pd.DataFrame(s_test, columns=['mod1_0', 'mod1_1', 'mod2_0', 'mod2_1', 'mod3_0', 'mos=3_1'])\n",
        "s_test = s_test.drop(['mod1_1',  'mod2_1',  'mos=3_1'],axis=1)"
      ]
    },
    {
      "cell_type": "code",
      "execution_count": null,
      "id": "1062827d",
      "metadata": {
        "execution": {
          "iopub.execute_input": "2023-11-09T16:47:55.307676Z",
          "iopub.status.busy": "2023-11-09T16:47:55.307018Z",
          "iopub.status.idle": "2023-11-09T16:47:55.925339Z",
          "shell.execute_reply": "2023-11-09T16:47:55.924119Z"
        },
        "papermill": {
          "duration": 0.682956,
          "end_time": "2023-11-09T16:47:55.931129",
          "exception": false,
          "start_time": "2023-11-09T16:47:55.248173",
          "status": "completed"
        },
        "tags": [],
        "id": "1062827d"
      },
      "outputs": [],
      "source": [
        "s_train.to_parquet('s_train.parquet')\n",
        "s_test.to_parquet('s_test.parquet')\n",
        "\n"
      ]
    },
    {
      "cell_type": "code",
      "execution_count": null,
      "id": "7184c677",
      "metadata": {
        "execution": {
          "iopub.execute_input": "2023-11-09T16:47:56.047625Z",
          "iopub.status.busy": "2023-11-09T16:47:56.047210Z",
          "iopub.status.idle": "2023-11-09T16:47:56.134322Z",
          "shell.execute_reply": "2023-11-09T16:47:56.133093Z"
        },
        "papermill": {
          "duration": 0.149272,
          "end_time": "2023-11-09T16:47:56.137167",
          "exception": false,
          "start_time": "2023-11-09T16:47:55.987895",
          "status": "completed"
        },
        "tags": [],
        "id": "7184c677"
      },
      "outputs": [],
      "source": [
        "pd.DataFrame(s_train2).to_parquet('s_train2.parquet')\n",
        "pd.DataFrame(s_test2).to_parquet('s_test2.parquet')"
      ]
    },
    {
      "cell_type": "code",
      "execution_count": null,
      "id": "7a1afeda",
      "metadata": {
        "execution": {
          "iopub.execute_input": "2023-11-09T16:47:56.256220Z",
          "iopub.status.busy": "2023-11-09T16:47:56.255469Z",
          "iopub.status.idle": "2023-11-09T16:47:56.260285Z",
          "shell.execute_reply": "2023-11-09T16:47:56.259410Z"
        },
        "papermill": {
          "duration": 0.067189,
          "end_time": "2023-11-09T16:47:56.262491",
          "exception": false,
          "start_time": "2023-11-09T16:47:56.195302",
          "status": "completed"
        },
        "tags": [],
        "id": "7a1afeda"
      },
      "outputs": [],
      "source": [
        "#s_train = pd.read_parquet('/kaggle/working/s_train.parquet')\n",
        "#s_test = pd.read_parquet('/kaggle/working/s_test.parquet')\n",
        "#s_train2 = pd.read_parquet('/kaggle/working/s_train2.parquet')\n",
        "#s_test2 = pd.read_parquet('/kaggle/working/s_test2.parquet')"
      ]
    },
    {
      "cell_type": "code",
      "execution_count": null,
      "id": "d744e3f8",
      "metadata": {
        "execution": {
          "iopub.execute_input": "2023-11-09T16:47:56.378709Z",
          "iopub.status.busy": "2023-11-09T16:47:56.377574Z",
          "iopub.status.idle": "2023-11-09T16:47:57.146305Z",
          "shell.execute_reply": "2023-11-09T16:47:57.145220Z"
        },
        "papermill": {
          "duration": 0.829505,
          "end_time": "2023-11-09T16:47:57.148901",
          "exception": false,
          "start_time": "2023-11-09T16:47:56.319396",
          "status": "completed"
        },
        "tags": [],
        "id": "d744e3f8"
      },
      "outputs": [],
      "source": [
        "x_train_new = pd.DataFrame(x_train).join(s_train)\n",
        "x_train_new['if'] = s_train2\n",
        "x_train_new.columns = x_train_new.columns.astype(str)\n",
        "\n",
        "x_test_new = pd.DataFrame(x_test).join(s_test)\n",
        "x_test_new['if'] = s_test2\n",
        "x_test_new.columns = x_test_new.columns.astype(str)"
      ]
    },
    {
      "cell_type": "code",
      "execution_count": null,
      "id": "05069da6",
      "metadata": {
        "execution": {
          "iopub.execute_input": "2023-11-09T16:47:57.265257Z",
          "iopub.status.busy": "2023-11-09T16:47:57.264836Z",
          "iopub.status.idle": "2023-11-09T16:47:57.271145Z",
          "shell.execute_reply": "2023-11-09T16:47:57.270022Z"
        },
        "papermill": {
          "duration": 0.066896,
          "end_time": "2023-11-09T16:47:57.273513",
          "exception": false,
          "start_time": "2023-11-09T16:47:57.206617",
          "status": "completed"
        },
        "tags": [],
        "id": "05069da6",
        "outputId": "4273df38-a3cf-4984-a3d7-513a14a99011"
      },
      "outputs": [
        {
          "data": {
            "text/plain": [
              "(2400000, 164)"
            ]
          },
          "execution_count": 31,
          "metadata": {},
          "output_type": "execute_result"
        }
      ],
      "source": [
        "x_train_new.shape"
      ]
    },
    {
      "cell_type": "code",
      "execution_count": null,
      "id": "5d01d521",
      "metadata": {
        "execution": {
          "iopub.execute_input": "2023-11-09T16:47:57.388329Z",
          "iopub.status.busy": "2023-11-09T16:47:57.387947Z",
          "iopub.status.idle": "2023-11-09T16:50:11.340283Z",
          "shell.execute_reply": "2023-11-09T16:50:11.339167Z"
        },
        "papermill": {
          "duration": 134.06892,
          "end_time": "2023-11-09T16:50:11.399141",
          "exception": false,
          "start_time": "2023-11-09T16:47:57.330221",
          "status": "completed"
        },
        "tags": [],
        "id": "5d01d521",
        "outputId": "505df2c0-61ee-4656-c2d9-92a619fff0ae"
      },
      "outputs": [
        {
          "data": {
            "text/html": [
              "<style>#sk-container-id-3 {color: black;background-color: white;}#sk-container-id-3 pre{padding: 0;}#sk-container-id-3 div.sk-toggleable {background-color: white;}#sk-container-id-3 label.sk-toggleable__label {cursor: pointer;display: block;width: 100%;margin-bottom: 0;padding: 0.3em;box-sizing: border-box;text-align: center;}#sk-container-id-3 label.sk-toggleable__label-arrow:before {content: \"▸\";float: left;margin-right: 0.25em;color: #696969;}#sk-container-id-3 label.sk-toggleable__label-arrow:hover:before {color: black;}#sk-container-id-3 div.sk-estimator:hover label.sk-toggleable__label-arrow:before {color: black;}#sk-container-id-3 div.sk-toggleable__content {max-height: 0;max-width: 0;overflow: hidden;text-align: left;background-color: #f0f8ff;}#sk-container-id-3 div.sk-toggleable__content pre {margin: 0.2em;color: black;border-radius: 0.25em;background-color: #f0f8ff;}#sk-container-id-3 input.sk-toggleable__control:checked~div.sk-toggleable__content {max-height: 200px;max-width: 100%;overflow: auto;}#sk-container-id-3 input.sk-toggleable__control:checked~label.sk-toggleable__label-arrow:before {content: \"▾\";}#sk-container-id-3 div.sk-estimator input.sk-toggleable__control:checked~label.sk-toggleable__label {background-color: #d4ebff;}#sk-container-id-3 div.sk-label input.sk-toggleable__control:checked~label.sk-toggleable__label {background-color: #d4ebff;}#sk-container-id-3 input.sk-hidden--visually {border: 0;clip: rect(1px 1px 1px 1px);clip: rect(1px, 1px, 1px, 1px);height: 1px;margin: -1px;overflow: hidden;padding: 0;position: absolute;width: 1px;}#sk-container-id-3 div.sk-estimator {font-family: monospace;background-color: #f0f8ff;border: 1px dotted black;border-radius: 0.25em;box-sizing: border-box;margin-bottom: 0.5em;}#sk-container-id-3 div.sk-estimator:hover {background-color: #d4ebff;}#sk-container-id-3 div.sk-parallel-item::after {content: \"\";width: 100%;border-bottom: 1px solid gray;flex-grow: 1;}#sk-container-id-3 div.sk-label:hover label.sk-toggleable__label {background-color: #d4ebff;}#sk-container-id-3 div.sk-serial::before {content: \"\";position: absolute;border-left: 1px solid gray;box-sizing: border-box;top: 0;bottom: 0;left: 50%;z-index: 0;}#sk-container-id-3 div.sk-serial {display: flex;flex-direction: column;align-items: center;background-color: white;padding-right: 0.2em;padding-left: 0.2em;position: relative;}#sk-container-id-3 div.sk-item {position: relative;z-index: 1;}#sk-container-id-3 div.sk-parallel {display: flex;align-items: stretch;justify-content: center;background-color: white;position: relative;}#sk-container-id-3 div.sk-item::before, #sk-container-id-3 div.sk-parallel-item::before {content: \"\";position: absolute;border-left: 1px solid gray;box-sizing: border-box;top: 0;bottom: 0;left: 50%;z-index: -1;}#sk-container-id-3 div.sk-parallel-item {display: flex;flex-direction: column;z-index: 1;position: relative;background-color: white;}#sk-container-id-3 div.sk-parallel-item:first-child::after {align-self: flex-end;width: 50%;}#sk-container-id-3 div.sk-parallel-item:last-child::after {align-self: flex-start;width: 50%;}#sk-container-id-3 div.sk-parallel-item:only-child::after {width: 0;}#sk-container-id-3 div.sk-dashed-wrapped {border: 1px dashed gray;margin: 0 0.4em 0.5em 0.4em;box-sizing: border-box;padding-bottom: 0.4em;background-color: white;}#sk-container-id-3 div.sk-label label {font-family: monospace;font-weight: bold;display: inline-block;line-height: 1.2em;}#sk-container-id-3 div.sk-label-container {text-align: center;}#sk-container-id-3 div.sk-container {/* jupyter's `normalize.less` sets `[hidden] { display: none; }` but bootstrap.min.css set `[hidden] { display: none !important; }` so we also need the `!important` here to be able to override the default hidden behavior on the sphinx rendered scikit-learn.org. See: https://github.com/scikit-learn/scikit-learn/issues/21755 */display: inline-block !important;position: relative;}#sk-container-id-3 div.sk-text-repr-fallback {display: none;}</style><div id=\"sk-container-id-3\" class=\"sk-top-container\"><div class=\"sk-text-repr-fallback\"><pre>HistGradientBoostingClassifier(class_weight=&#x27;balanced&#x27;, l2_regularization=0.01,\n",
              "                               max_depth=15, max_iter=150, max_leaf_nodes=72,\n",
              "                               min_samples_leaf=30, scoring=&#x27;roc_auc&#x27;,\n",
              "                               tol=1e-05)</pre><b>In a Jupyter environment, please rerun this cell to show the HTML representation or trust the notebook. <br />On GitHub, the HTML representation is unable to render, please try loading this page with nbviewer.org.</b></div><div class=\"sk-container\" hidden><div class=\"sk-item\"><div class=\"sk-estimator sk-toggleable\"><input class=\"sk-toggleable__control sk-hidden--visually\" id=\"sk-estimator-id-3\" type=\"checkbox\" checked><label for=\"sk-estimator-id-3\" class=\"sk-toggleable__label sk-toggleable__label-arrow\">HistGradientBoostingClassifier</label><div class=\"sk-toggleable__content\"><pre>HistGradientBoostingClassifier(class_weight=&#x27;balanced&#x27;, l2_regularization=0.01,\n",
              "                               max_depth=15, max_iter=150, max_leaf_nodes=72,\n",
              "                               min_samples_leaf=30, scoring=&#x27;roc_auc&#x27;,\n",
              "                               tol=1e-05)</pre></div></div></div></div></div>"
            ],
            "text/plain": [
              "HistGradientBoostingClassifier(class_weight='balanced', l2_regularization=0.01,\n",
              "                               max_depth=15, max_iter=150, max_leaf_nodes=72,\n",
              "                               min_samples_leaf=30, scoring='roc_auc',\n",
              "                               tol=1e-05)"
            ]
          },
          "execution_count": 32,
          "metadata": {},
          "output_type": "execute_result"
        }
      ],
      "source": [
        "#в качестве финального классификатора попробуем NN и градиентный бустинг\n",
        "grad_fin = HistGradientBoostingClassifier(class_weight='balanced', max_depth=15,  max_leaf_nodes=72, min_samples_leaf=30, max_iter=150, scoring='roc_auc', tol=0.00001, l2_regularization=0.01, learning_rate=0.1)\n",
        "grad_fin.fit(x_train_new, y_train)"
      ]
    },
    {
      "cell_type": "code",
      "execution_count": null,
      "id": "89be8124",
      "metadata": {
        "execution": {
          "iopub.execute_input": "2023-11-09T16:50:11.511687Z",
          "iopub.status.busy": "2023-11-09T16:50:11.511273Z",
          "iopub.status.idle": "2023-11-09T16:50:22.243471Z",
          "shell.execute_reply": "2023-11-09T16:50:22.242264Z"
        },
        "papermill": {
          "duration": 10.791488,
          "end_time": "2023-11-09T16:50:22.246068",
          "exception": false,
          "start_time": "2023-11-09T16:50:11.454580",
          "status": "completed"
        },
        "tags": [],
        "id": "89be8124",
        "outputId": "4959d858-55fe-4189-e46f-6f7f391d6fbe"
      },
      "outputs": [
        {
          "name": "stdout",
          "output_type": "stream",
          "text": [
            "ROC AUC=0.759\n",
            "              precision    recall  f1-score   support\n",
            "\n",
            "           0       0.98      0.67      0.80    578712\n",
            "           1       0.07      0.72      0.13     21288\n",
            "\n",
            "    accuracy                           0.67    600000\n",
            "   macro avg       0.53      0.69      0.47    600000\n",
            "weighted avg       0.95      0.67      0.77    600000\n",
            "\n"
          ]
        },
        {
          "data": {
            "image/png": "[encoded data removed]",
            "text/plain": [
              "<Figure size 640x480 with 2 Axes>"
            ]
          },
          "metadata": {},
          "output_type": "display_data"
        }
      ],
      "source": [
        "eval_classifier(grad_fin, x_test_new, y_test )"
      ]
    },
    {
      "cell_type": "code",
      "execution_count": null,
      "id": "8a0d679e",
      "metadata": {
        "execution": {
          "iopub.execute_input": "2023-11-09T16:50:22.367442Z",
          "iopub.status.busy": "2023-11-09T16:50:22.367041Z",
          "iopub.status.idle": "2023-11-09T16:50:23.455979Z",
          "shell.execute_reply": "2023-11-09T16:50:23.454940Z"
        },
        "papermill": {
          "duration": 1.150903,
          "end_time": "2023-11-09T16:50:23.458823",
          "exception": false,
          "start_time": "2023-11-09T16:50:22.307920",
          "status": "completed"
        },
        "tags": [],
        "id": "8a0d679e"
      },
      "outputs": [],
      "source": [
        "n_features = x_train_new.shape[1]\n",
        "\n",
        "x_train_new = x_train_new.to_numpy()\n",
        "x_test_new = x_test_new.to_numpy()"
      ]
    },
    {
      "cell_type": "code",
      "execution_count": null,
      "id": "a8dc07d0",
      "metadata": {
        "execution": {
          "iopub.execute_input": "2023-11-09T16:50:23.575803Z",
          "iopub.status.busy": "2023-11-09T16:50:23.575417Z",
          "iopub.status.idle": "2023-11-09T16:59:59.430262Z",
          "shell.execute_reply": "2023-11-09T16:59:59.428966Z"
        },
        "papermill": {
          "duration": 575.91656,
          "end_time": "2023-11-09T16:59:59.433405",
          "exception": false,
          "start_time": "2023-11-09T16:50:23.516845",
          "status": "completed"
        },
        "tags": [],
        "id": "a8dc07d0"
      },
      "outputs": [],
      "source": [
        "train_data = MyDataset(x_train_new, y_train)\n",
        "\n",
        "batch_size = 64\n",
        "num_epochs=10\n",
        "\n",
        "train_dataloader = DataLoader(\n",
        "    train_data,\n",
        "    batch_size=batch_size,\n",
        "    shuffle=True\n",
        ")\n",
        "\n",
        "\n",
        "hidden_layer_size = round((n_features/3)*2)\n",
        "class BaseClassifier(nn.Module):\n",
        "    def __init__(self, input_dim=n_features, hidden_dim=hidden_layer_size, output_dim=1):\n",
        "        super().__init__()\n",
        "\n",
        "        self.hidden1 = nn.Linear(input_dim, hidden_dim)\n",
        "        self.f1 = nn.Sigmoid()\n",
        "\n",
        "        self.hidden2 = nn.Linear(hidden_dim, 10)\n",
        "        self.f2 = nn.Sigmoid()\n",
        "\n",
        "        self.output = nn.Linear(10, output_dim)\n",
        "        self.f3 = nn.Sigmoid()\n",
        "\n",
        "    def forward(self, x):\n",
        "        x = self.f1(self.hidden1(x))\n",
        "        x = self.f2(self.hidden2(x))\n",
        "        x  = self.f3(self.output(x))\n",
        "\n",
        "        return x\n",
        "\n",
        "fin_net = BaseClassifier()\n",
        "\n",
        "for epoch in range(num_epochs):\n",
        "        for X, y in train_dataloader:\n",
        "            pred = fin_net(X)\n",
        "\n",
        "            weights = torch.zeros_like(y.unsqueeze(-1))\n",
        "            weights[y==0] = class_weights[0]\n",
        "            weights[y==1] = class_weights[1]\n",
        "            loss = F.binary_cross_entropy(pred, y.unsqueeze(-1), weight=weights)\n",
        "            optimizer.zero_grad()\n",
        "            loss.backward()\n",
        "\n",
        "            optimizer.step()\n",
        "\n"
      ]
    },
    {
      "cell_type": "code",
      "execution_count": null,
      "id": "95004711",
      "metadata": {
        "execution": {
          "iopub.execute_input": "2023-11-09T16:59:59.553413Z",
          "iopub.status.busy": "2023-11-09T16:59:59.552733Z",
          "iopub.status.idle": "2023-11-09T16:59:59.750400Z",
          "shell.execute_reply": "2023-11-09T16:59:59.749182Z"
        },
        "papermill": {
          "duration": 0.259731,
          "end_time": "2023-11-09T16:59:59.753351",
          "exception": false,
          "start_time": "2023-11-09T16:59:59.493620",
          "status": "completed"
        },
        "tags": [],
        "id": "95004711"
      },
      "outputs": [],
      "source": [
        "x_test_new_tensor =torch.from_numpy(x_test_new.astype(np.float32))\n",
        "\n"
      ]
    },
    {
      "cell_type": "code",
      "execution_count": null,
      "id": "685cf0ff",
      "metadata": {
        "execution": {
          "iopub.execute_input": "2023-11-09T16:59:59.874551Z",
          "iopub.status.busy": "2023-11-09T16:59:59.873545Z",
          "iopub.status.idle": "2023-11-09T17:00:00.911631Z",
          "shell.execute_reply": "2023-11-09T17:00:00.910570Z"
        },
        "papermill": {
          "duration": 1.101403,
          "end_time": "2023-11-09T17:00:00.914521",
          "exception": false,
          "start_time": "2023-11-09T16:59:59.813118",
          "status": "completed"
        },
        "tags": [],
        "id": "685cf0ff",
        "outputId": "b1d3f059-7116-4c10-e30d-a570405bcc50"
      },
      "outputs": [
        {
          "data": {
            "text/plain": [
              "0.7559"
            ]
          },
          "execution_count": 37,
          "metadata": {},
          "output_type": "execute_result"
        }
      ],
      "source": [
        "y_pred_proba = fin_net(x_test_new_tensor).cpu().detach().numpy().ravel()\n",
        "auc = round(roc_auc_score(y_test, y_pred), 4)\n",
        "auc"
      ]
    },
    {
      "cell_type": "code",
      "execution_count": null,
      "id": "b8883efe",
      "metadata": {
        "execution": {
          "iopub.execute_input": "2023-11-09T17:00:01.034166Z",
          "iopub.status.busy": "2023-11-09T17:00:01.033710Z",
          "iopub.status.idle": "2023-11-09T17:00:01.898063Z",
          "shell.execute_reply": "2023-11-09T17:00:01.896928Z"
        },
        "papermill": {
          "duration": 0.92751,
          "end_time": "2023-11-09T17:00:01.900648",
          "exception": false,
          "start_time": "2023-11-09T17:00:00.973138",
          "status": "completed"
        },
        "tags": [],
        "id": "b8883efe",
        "outputId": "4613c324-10a4-4741-8e00-9eedff9d85cd"
      },
      "outputs": [
        {
          "data": {
            "image/png": "[encoded data removed]",
            "text/plain": [
              "<Figure size 640x480 with 2 Axes>"
            ]
          },
          "metadata": {},
          "output_type": "display_data"
        }
      ],
      "source": [
        "y_pred = np.round(basenet(x_test_tensor).cpu().detach().numpy().ravel())\n",
        "cm = confusion_matrix(y_test, y_pred, labels=[0, 1], normalize='all')\n",
        "disp = ConfusionMatrixDisplay(confusion_matrix=cm, display_labels=[0, 1])\n",
        "disp.plot()\n",
        "plt.show()\n"
      ]
    },
    {
      "cell_type": "code",
      "execution_count": null,
      "id": "7f4d15aa",
      "metadata": {
        "execution": {
          "iopub.execute_input": "2023-11-09T17:00:02.024935Z",
          "iopub.status.busy": "2023-11-09T17:00:02.024521Z",
          "iopub.status.idle": "2023-11-09T17:00:02.029584Z",
          "shell.execute_reply": "2023-11-09T17:00:02.028322Z"
        },
        "papermill": {
          "duration": 0.068498,
          "end_time": "2023-11-09T17:00:02.031833",
          "exception": false,
          "start_time": "2023-11-09T17:00:01.963335",
          "status": "completed"
        },
        "tags": [],
        "id": "7f4d15aa"
      },
      "outputs": [],
      "source": [
        "#собранная сеть дает неплохой результат и, вероятно, его можно было бы улучшить, но HistGradientBoostingClassifier однозначно лидирует\n",
        "#и по метрике, и по простоте использования (в частности, еще предстоит выстраивать пайплайн), и по скорости обучения.\n",
        "#задачу добиться максимально возможной на этих данных метрики подбором параметров и гиперпараметров не ставлю\n"
      ]
    }
  ],
  "metadata": {
    "kernelspec": {
      "display_name": "Python 3",
      "language": "python",
      "name": "python3"
    },
    "language_info": {
      "codemirror_mode": {
        "name": "ipython",
        "version": 3
      },
      "file_extension": ".py",
      "mimetype": "text/x-python",
      "name": "python",
      "nbconvert_exporter": "python",
      "pygments_lexer": "ipython3",
      "version": "3.10.12"
    },
    "papermill": {
      "default_parameters": {},
      "duration": 9844.057611,
      "end_time": "2023-11-09T17:02:10.975030",
      "environment_variables": {},
      "exception": null,
      "input_path": "__notebook__.ipynb",
      "output_path": "__notebook__.ipynb",
      "parameters": {},
      "start_time": "2023-11-09T14:18:06.917419",
      "version": "2.4.0"
    },
    "colab": {
      "provenance": []
    }
  },
  "nbformat": 4,
  "nbformat_minor": 5
}